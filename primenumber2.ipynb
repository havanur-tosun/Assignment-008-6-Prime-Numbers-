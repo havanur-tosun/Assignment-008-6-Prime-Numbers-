{
  "nbformat": 4,
  "nbformat_minor": 0,
  "metadata": {
    "colab": {
      "name": "primenumber2",
      "provenance": [],
      "authorship_tag": "ABX9TyMPCFig87ITPeAm++P4PPSF",
      "include_colab_link": true
    },
    "kernelspec": {
      "name": "python3",
      "display_name": "Python 3"
    },
    "language_info": {
      "name": "python"
    }
  },
  "cells": [
    {
      "cell_type": "markdown",
      "metadata": {
        "id": "view-in-github",
        "colab_type": "text"
      },
      "source": [
        "<a href=\"https://colab.research.google.com/github/havanur-tosun/Assignment-008-6-Prime-Numbers-/blob/main/primenumber2.ipynb\" target=\"_parent\"><img src=\"https://colab.research.google.com/assets/colab-badge.svg\" alt=\"Open In Colab\"/></a>"
      ]
    },
    {
      "cell_type": "code",
      "metadata": {
        "colab": {
          "base_uri": "https://localhost:8080/"
        },
        "id": "8dYgvnffocZd",
        "outputId": "dabe7fcb-111f-438c-f903-37aa18c3b948"
      },
      "source": [
        "start = 1\n",
        "end = int(input(\"Enter a last number: \"))\n",
        "list1 = []\n",
        "\n",
        "for i in range(start,end + 1):\n",
        "   if i > 1:\n",
        "       for x in range(2,i):\n",
        "           if (i % x) == 0:\n",
        "               break\n",
        "       else:\n",
        "         list1.append(i)\n",
        "print(list1)"
      ],
      "execution_count": 3,
      "outputs": [
        {
          "output_type": "stream",
          "text": [
            "Enter a last number: 12\n",
            "[2, 3, 5, 7, 11]\n"
          ],
          "name": "stdout"
        }
      ]
    }
  ]
}