{
  "nbformat": 4,
  "nbformat_minor": 0,
  "metadata": {
    "colab": {
      "name": "primenumber2",
      "provenance": [],
      "authorship_tag": "ABX9TyNNpjqed/qYqesiT9ApSuF1",
      "include_colab_link": true
    },
    "kernelspec": {
      "name": "python3",
      "display_name": "Python 3"
    },
    "language_info": {
      "name": "python"
    }
  },
  "cells": [
    {
      "cell_type": "markdown",
      "metadata": {
        "id": "view-in-github",
        "colab_type": "text"
      },
      "source": [
        "<a href=\"https://colab.research.google.com/github/havanur-tosun/Assignment-008-6-Prime-Numbers-/blob/main/primenumber2.ipynb\" target=\"_parent\"><img src=\"https://colab.research.google.com/assets/colab-badge.svg\" alt=\"Open In Colab\"/></a>"
      ]
    },
    {
      "cell_type": "code",
      "metadata": {
        "colab": {
          "base_uri": "https://localhost:8080/"
        },
        "id": "8dYgvnffocZd",
        "outputId": "c493e230-ac5c-4476-a384-1ccbac5fc97f"
      },
      "source": [
        "start = 1\n",
        "end = int(input(\"Enter a last number: \"))\n",
        "list1 = []\n",
        "for i in range(start,end):\n",
        "   if i > 1:\n",
        "       for x in range(2,i):\n",
        "           if (i % x) == 0:\n",
        "               break\n",
        "       else:\n",
        "         list1.append(i)\n",
        "print(list1)"
      ],
      "execution_count": null,
      "outputs": [
        {
          "output_type": "stream",
          "text": [
            "Enter a last number: 100\n",
            "[2, 3, 5, 7, 11, 13, 17, 19, 23, 29, 31, 37, 41, 43, 47, 53, 59, 61, 67, 71, 73, 79, 83, 89, 97]\n"
          ],
          "name": "stdout"
        }
      ]
    }
  ]
}